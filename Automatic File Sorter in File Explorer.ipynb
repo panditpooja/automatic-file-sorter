{
 "cells": [
  {
   "cell_type": "code",
   "execution_count": 1,
   "id": "b210cb66-bb11-44fc-aba0-8f4cd590b7dc",
   "metadata": {},
   "outputs": [],
   "source": [
    "# Import required libraries for file handling and moving files\n",
    "import os, shutil"
   ]
  },
  {
   "cell_type": "code",
   "execution_count": 2,
   "id": "e8a12cc8-8b2e-4803-9a1b-3ca99a5e8bde",
   "metadata": {},
   "outputs": [],
   "source": [
    "# Define the path to the folder where files need to be sorted\n",
    "path = r\"C:/Users/ual-laptop/Downloads/UoA laptop downloads folder/Alex The Analyst/Pooja/Python/Automatic File Sorter in File Explorer/demo files/\""
   ]
  },
  {
   "cell_type": "code",
   "execution_count": 3,
   "id": "8cfb1feb-4f6f-4f1b-8a84-31aaa5ecd3a2",
   "metadata": {},
   "outputs": [],
   "source": [
    "# Get the list of all file names in the directory\n",
    "file_names = os.listdir(path)\n",
    "# os.listdir(path)"
   ]
  },
  {
   "cell_type": "code",
   "execution_count": 4,
   "id": "c540912d-1b6f-4cb6-8497-90dd85b64da1",
   "metadata": {},
   "outputs": [],
   "source": [
    "# Define folder names and create them if they don't already exist\n",
    "folder_names = [\"Excel files\", \"Image files\", \"Text files\"]\n",
    "for folder in folder_names:\n",
    "    if not os.path.exists(path + folder):\n",
    "        os.makedirs(path + folder)"
   ]
  },
  {
   "cell_type": "code",
   "execution_count": 5,
   "id": "8dd04df9-31c5-4a43-af2b-f5c3ca27d972",
   "metadata": {},
   "outputs": [],
   "source": [
    "# Move files into their respective folders based on extension\n",
    "for file in file_names:\n",
    "    # Check if there is an extension\n",
    "    if '.' in file:\n",
    "        extension = file.split('.')[1]\n",
    "        # print(extension)\n",
    "        # Move Excel files\n",
    "        if extension == 'xlsx' and not os.path.exists(path + \"Excel files/\" + file):\n",
    "            shutil.move(path + file,path + \"Excel files/\" + file)\n",
    "        # Move Image files    \n",
    "        elif extension in ['png','jpg','jpeg'] and not os.path.exists(path + \"Image files/\" + file):\n",
    "            shutil.move(path + file,path + \"Image files/\" + file) \n",
    "        # Move Text files\n",
    "        elif extension == 'txt' and not os.path.exists(path + \"Text files/\" + file):\n",
    "            shutil.move(path + file,path + \"Text files/\" + file)\n",
    "        # Log unhandled file types\n",
    "        else:\n",
    "            print(\"There are files in this path that are not moved\")\n",
    "            \n",
    "    "
   ]
  }
 ],
 "metadata": {
  "kernelspec": {
   "display_name": "Python 3 (ipykernel)",
   "language": "python",
   "name": "python3"
  },
  "language_info": {
   "codemirror_mode": {
    "name": "ipython",
    "version": 3
   },
   "file_extension": ".py",
   "mimetype": "text/x-python",
   "name": "python",
   "nbconvert_exporter": "python",
   "pygments_lexer": "ipython3",
   "version": "3.12.7"
  }
 },
 "nbformat": 4,
 "nbformat_minor": 5
}
